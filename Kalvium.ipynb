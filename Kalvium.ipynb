{
  "nbformat": 4,
  "nbformat_minor": 0,
  "metadata": {
    "colab": {
      "provenance": []
    },
    "kernelspec": {
      "name": "python3",
      "display_name": "Python 3"
    },
    "language_info": {
      "name": "python"
    }
  },
  "cells": [
    {
      "cell_type": "code",
      "execution_count": 2,
      "metadata": {
        "colab": {
          "base_uri": "https://localhost:8080/"
        },
        "id": "RgDNsXpJe1Dk",
        "outputId": "d00380c3-a21b-4b7e-cbf0-7031ce10549e"
      },
      "outputs": [
        {
          "output_type": "stream",
          "name": "stdout",
          "text": [
            "Headers: ['Party', 'Won', 'Leading', 'Total', 'Total', '543', '0', '543']\n",
            "First row of data: ['Bharatiya Janata Party - BJP', '240', '0', '240']\n",
            "Scraping completed and data saved to 'lok_sabha_election_results_2024.csv'\n"
          ]
        }
      ],
      "source": [
        "import requests\n",
        "from bs4 import BeautifulSoup\n",
        "import pandas as pd\n",
        "\n",
        "def fetch_webpage(url):\n",
        "    response = requests.get(url)\n",
        "    if response.status_code == 200:\n",
        "        return response.content\n",
        "    else:\n",
        "        print(f\"Failed to retrieve the webpage. Status code: {response.status_code}\")\n",
        "        return None\n",
        "\n",
        "def extract_table(soup):\n",
        "    table = soup.find('table')\n",
        "    if table is None:\n",
        "        print(\"Table not found on the page.\")\n",
        "    return table\n",
        "\n",
        "def parse_table(table):\n",
        "    headers = [header.text.strip() for header in table.find_all('th')]\n",
        "    rows = table.find_all('tr')\n",
        "    data = [\n",
        "        [column.text.strip() for column in row.find_all('td')]\n",
        "        for row in rows if row.find_all('td')\n",
        "    ]\n",
        "    return headers, data\n",
        "\n",
        "def filter_relevant_headers(headers, data):\n",
        "    # Find the correct headers for the data\n",
        "    relevant_headers = [header for header in headers if header]\n",
        "    return relevant_headers[:len(data[0])]\n",
        "\n",
        "def save_to_csv(headers, data, filename):\n",
        "    relevant_headers = filter_relevant_headers(headers, data)\n",
        "    df = pd.DataFrame(data, columns=relevant_headers)\n",
        "    df.to_csv(filename, index=False)\n",
        "    print(f\"Scraping completed and data saved to '{filename}'\")\n",
        "\n",
        "def main(url):\n",
        "    content = fetch_webpage(url)\n",
        "    if content:\n",
        "        soup = BeautifulSoup(content, 'html.parser')\n",
        "        table = extract_table(soup)\n",
        "        if table:\n",
        "            headers, data = parse_table(table)\n",
        "            print(\"Headers:\", headers)\n",
        "            if data:\n",
        "                print(\"First row of data:\", data[0])\n",
        "            save_to_csv(headers, data, 'lok_sabha_election_results_2024.csv')\n",
        "        else:\n",
        "            print(\"Failed to scrape the data as the table was not found.\")\n",
        "\n",
        "if __name__ == \"__main__\":\n",
        "    url = 'https://results.eci.gov.in/PcResultGenJune2024/index.htm'\n",
        "    main(url)\n"
      ]
    },
    {
      "cell_type": "code",
      "source": [
        "import pandas as pd\n",
        "\n",
        "def load_data(file_path):\n",
        "    return pd.read_csv(file_path)\n",
        "\n",
        "def calculate_statistics(data):\n",
        "    total_seats_by_party = data[['Party', 'Won']].sort_values(by='Won', ascending=False)\n",
        "\n",
        "    party_with_most_seats = total_seats_by_party.iloc[0]\n",
        "    party_with_least_seats = total_seats_by_party.iloc[-1]\n",
        "\n",
        "    total_seats = total_seats_by_party['Won'].sum()\n",
        "    total_seats_by_party['Percentage'] = (total_seats_by_party['Won'] / total_seats) * 100\n",
        "\n",
        "    total_parties = total_seats_by_party.shape[0]\n",
        "\n",
        "    top_5_parties = total_seats_by_party.head(5)\n",
        "\n",
        "    sum_of_seats = total_seats_by_party['Won'].sum()\n",
        "    average_seats = total_seats_by_party['Won'].mean()\n",
        "    median_seats = total_seats_by_party['Won'].median()\n",
        "    std_dev_seats = total_seats_by_party['Won'].std()\n",
        "\n",
        "    return {\n",
        "        \"Total seats won by each party\": total_seats_by_party.to_dict('records'),\n",
        "        \"Party with the highest number of seats won\": party_with_most_seats.to_dict(),\n",
        "        \"Party with the lowest number of seats won\": party_with_least_seats.to_dict(),\n",
        "        \"Percentage of total seats won by each party\": total_seats_by_party[['Party', 'Percentage']].to_dict('records'),\n",
        "        \"Total number of parties participating\": total_parties,\n",
        "        \"Top 5 parties by number of seats won\": top_5_parties.to_dict('records'),\n",
        "        \"Sum of seats won by all parties\": sum_of_seats,\n",
        "        \"Average number of seats won by parties\": average_seats,\n",
        "        \"Median number of seats won by parties\": median_seats,\n",
        "        \"Standard deviation of seats won by parties\": std_dev_seats\n",
        "    }\n",
        "\n",
        "def create_adjusted_report(report):\n",
        "    return {\n",
        "        \"Insight\": [\n",
        "            \"Total seats won by each party\",\n",
        "            \"Party with the highest number of seats won\",\n",
        "            \"Party with the lowest number of seats won\",\n",
        "            \"Percentage of total seats won by each party\",\n",
        "            \"Total number of parties participating\",\n",
        "            \"Top 5 parties by number of seats won\",\n",
        "            \"Sum of seats won by all parties\",\n",
        "            \"Average number of seats won by parties\",\n",
        "            \"Median number of seats won by parties\",\n",
        "            \"Standard deviation of seats won by parties\"\n",
        "        ],\n",
        "        \"Details\": [\n",
        "            report[\"Total seats won by each party\"],\n",
        "            report[\"Party with the highest number of seats won\"],\n",
        "            report[\"Party with the lowest number of seats won\"],\n",
        "            report[\"Percentage of total seats won by each party\"],\n",
        "            report[\"Total number of parties participating\"],\n",
        "            report[\"Top 5 parties by number of seats won\"],\n",
        "            report[\"Sum of seats won by all parties\"],\n",
        "            report[\"Average number of seats won by parties\"],\n",
        "            report[\"Median number of seats won by parties\"],\n",
        "            report[\"Standard deviation of seats won by parties\"]\n",
        "        ]\n",
        "    }\n",
        "\n",
        "def save_report(adjusted_report, file_path):\n",
        "    report_df = pd.DataFrame(adjusted_report)\n",
        "    report_df.to_csv(file_path, index=False)\n",
        "    print(f\"Report saved to {file_path}\")\n",
        "\n",
        "def main(file_path, report_path):\n",
        "    data = load_data(file_path)\n",
        "    report = calculate_statistics(data)\n",
        "    adjusted_report = create_adjusted_report(report)\n",
        "    save_report(adjusted_report, report_path)\n",
        "\n",
        "if __name__ == \"__main__\":\n",
        "    file_path = 'lok_sabha_election_results_2024.csv'\n",
        "    report_path = 'election_report.csv'\n",
        "    main(file_path, report_path)\n"
      ],
      "metadata": {
        "colab": {
          "base_uri": "https://localhost:8080/"
        },
        "id": "lnPGGxGifWWO",
        "outputId": "4cff9a95-61b1-4552-ab22-e47298be6b47"
      },
      "execution_count": 3,
      "outputs": [
        {
          "output_type": "stream",
          "name": "stdout",
          "text": [
            "Report saved to election_report.csv\n"
          ]
        }
      ]
    }
  ]
}